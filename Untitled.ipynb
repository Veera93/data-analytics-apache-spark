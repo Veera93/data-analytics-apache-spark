{
 "cells": [
  {
   "cell_type": "code",
   "execution_count": 1,
   "metadata": {},
   "outputs": [
    {
     "name": "stderr",
     "output_type": "stream",
     "text": [
      "Downloading 20news dataset. This may take a few minutes.\n",
      "Downloading dataset from https://ndownloader.figshare.com/files/5975967 (14 MB)\n"
     ]
    }
   ],
   "source": [
    "from sklearn.datasets import fetch_20newsgroups\n",
    "twenty_train = fetch_20newsgroups(subset='train', shuffle=True)"
   ]
  },
  {
   "cell_type": "code",
   "execution_count": 4,
   "metadata": {},
   "outputs": [
    {
     "name": "stdout",
     "output_type": "stream",
     "text": [
      "From: lerxst@wam.umd.edu (where's my thing)\n",
      "Subject: WHAT car is this!?\n",
      "Nntp-Posting-Host: rac3.wam.umd.edu\n"
     ]
    }
   ],
   "source": [
    "twenty_train.target_names #prints all the categories\n",
    "print(\"\\n\".join(twenty_train.data[0].split(\"\\n\")[:3])) #prints first line of the first data file"
   ]
  },
  {
   "cell_type": "code",
   "execution_count": 6,
   "metadata": {},
   "outputs": [
    {
     "data": {
      "text/plain": [
       "11314"
      ]
     },
     "execution_count": 6,
     "metadata": {},
     "output_type": "execute_result"
    }
   ],
   "source": [
    "len(twenty_train.data)"
   ]
  },
  {
   "cell_type": "code",
   "execution_count": 5,
   "metadata": {},
   "outputs": [
    {
     "data": {
      "text/plain": [
       "(11314, 130107)"
      ]
     },
     "execution_count": 5,
     "metadata": {},
     "output_type": "execute_result"
    }
   ],
   "source": [
    "from sklearn.feature_extraction.text import CountVectorizer\n",
    "count_vect = CountVectorizer()\n",
    "X_train_counts = count_vect.fit_transform(twenty_train.data)\n",
    "X_train_counts.shape"
   ]
  },
  {
   "cell_type": "code",
   "execution_count": 9,
   "metadata": {},
   "outputs": [
    {
     "data": {
      "text/plain": [
       "(11314, 130107)"
      ]
     },
     "execution_count": 9,
     "metadata": {},
     "output_type": "execute_result"
    }
   ],
   "source": [
    "from sklearn.feature_extraction.text import TfidfTransformer\n",
    "tfidf_transformer = TfidfTransformer()\n",
    "X_train_tfidf = tfidf_transformer.fit_transform(X_train_counts)\n",
    "X_train_tfidf.shape"
   ]
  },
  {
   "cell_type": "code",
   "execution_count": 10,
   "metadata": {},
   "outputs": [],
   "source": [
    "from sklearn.naive_bayes import MultinomialNB\n",
    "clf = MultinomialNB().fit(X_train_tfidf, twenty_train.target)"
   ]
  },
  {
   "cell_type": "code",
   "execution_count": 14,
   "metadata": {},
   "outputs": [],
   "source": [
    "from sklearn.pipeline import Pipeline\n",
    "text_clf = Pipeline([('vect', CountVectorizer()), ('tfidf', TfidfTransformer()), ('clf', MultinomialNB())])\n",
    "text_clf = text_clf.fit(twenty_train.data, twenty_train.target)"
   ]
  },
  {
   "cell_type": "code",
   "execution_count": 15,
   "metadata": {
    "scrolled": false
   },
   "outputs": [
    {
     "ename": "ValueError",
     "evalue": "Expected 2D array, got 1D array instead:\narray=[ 'From: v064mb9k@ubvmsd.cc.buffalo.edu (NEIL B. GANDLER)\\nSubject: Need info on 88-89 Bonneville\\nOrganization: University at Buffalo\\nLines: 10\\nNews-Software: VAX/VMS VNEWS 1.41\\nNntp-Posting-Host: ubvmsd.cc.buffalo.edu\\n\\n\\n I am a little confused on all of the models of the 88-89 bonnevilles.\\nI have heard of the LE SE LSE SSE SSEI. Could someone tell me the\\ndifferences are far as features or performance. I am also curious to\\nknow what the book value is for prefereably the 89 model. And how much\\nless than book value can you usually get them for. In other words how\\nmuch are they in demand this time of year. I have heard that the mid-spring\\nearly summer is the best time to buy.\\n\\n\\t\\t\\tNeil Gandler\\n'\n 'From: Rick Miller <rick@ee.uwm.edu>\\nSubject: X-Face?\\nOrganization: Just me.\\nLines: 17\\nDistribution: world\\nNNTP-Posting-Host: 129.89.2.33\\nSummary: Go ahead... swamp me.  <EEP!>\\n\\nI\\'m not familiar at all with the format of these \"X-Face:\" thingies, but\\nafter seeing them in some folks\\' headers, I\\'ve *got* to *see* them (and\\nmaybe make one of my own)!\\n\\nI\\'ve got \"dpg-view\" on my Linux box (which displays \"uncompressed X-Faces\")\\nand I\\'ve managed to compile [un]compface too... but now that I\\'m *looking*\\nfor them, I can\\'t seem to find any X-Face:\\'s in anyones news headers!  :-(\\n\\nCould you, would you, please send me your \"X-Face:\" header?\\n\\nI *know* I\\'ll probably get a little swamped, but I can handle it.\\n\\n\\t...I hope.\\n\\nRick Miller  <rick@ee.uwm.edu> | <ricxjo@discus.mil.wi.us>   Ricxjo Muelisto\\nSend a postcard, get one back! | Enposxtigu bildkarton kaj vi ricevos alion!\\n          RICK MILLER // 16203 WOODS // MUSKEGO, WIS. 53150 // USA\\n'\n 'From: mathew <mathew@mantis.co.uk>\\nSubject: Re: STRONG & weak Atheism\\nOrganization: Mantis Consultants, Cambridge. UK.\\nX-Newsreader: rusnews v1.02\\nLines: 9\\n\\nacooper@mac.cc.macalstr.edu (Turin Turambar, ME Department of Utter Misery) writes:\\n> Did that FAQ ever got modified to re-define strong atheists as not those who\\n> assert the nonexistence of God, but as those who assert that they BELIEVE in \\n> the nonexistence of God?\\n\\nIn a word, yes.\\n\\n\\nmathew\\n'\n ...,\n 'From: hhenderson@vax.clarku.edu\\nSubject: RE: Game Length (was Re: Braves Update!!\\nOrganization: Clark University\\nLines: 31\\n\\nI sent a version of this post out a while ago, but it was swallowed by\\nthe void.  My apologies if anyone ends up receiving it.\\n\\nSherri Nichols writes:\\n\\n>In article <22APR93.04131972@vax.clarku.edu> hhenderson@vax.clarku.edu writes:\\n>>snichols@adobe.com (Sherri Nichols) writes:\\n>>\\n>>>I just don\\'t\\n>>>happen to think that the 11-15 minutes added to the length of games over\\n>>>the last 10 years has added anything interesting.\\n>>\\n>>How would you quantify that?  I suppose an easy way would be to look at\\n>>attendance figures.  Anyone got the numbers?\\n>\\n>Attendance figures aren\\'t going to quantify anything about my personal\\n>opinion, which the above is clearly stated as.  Add \"to me\" to the end of\\n>my sentence, if you\\'re confused about what I meant.\\n\\nOh no, I wasn\\'t confused -- I understood that it was your personal\\nopinion.  But I thought we were discussing the need to shorten\\ngames.  The arguments which declare this need seem to hinge on\\nthe assertion that long games bore people and otherwise discourage\\nthem from going to the ballpark.  I\\'d like to see if the increased\\nlength of games has negatively affected attendance.  If it has, then\\nthere *is* a problem, and something should be done about it.  If it\\nhasn\\'t, then there *isn\\'t* a problem, and there\\'s no need to monkey\\nwith things as they are.\\n\\nHeather\\nHHENDERSON@vax.clarku.edu\\n'\n \"From: b859zam@utarlg.uta.edu \\nSubject: INTEL CHMOS 8086/8088 DESIGN KIT\\nNews-Software: VAX/VMS VNEWS 1.41    \\nNntp-Posting-Host: utarlg.uta.edu\\nOrganization: The University of Texas at Arlington\\nLines: 33\\n\\nI have this kit which includes the following :\\n\\n1)\\t82c84a/82c84a-5\\n\\tCHMOS CLOCK GENERATOR AND DRIVER\\n\\tFOR 8086,80C88 PROCESSORS\\n2)\\t27C64/87C64\\n\\t64K(8Kx8) CHMOS UV ERASABLE PROM\\n3)\\t51C259L\\n\\tLOW POWER 64K x 4\\n\\tCHMOS DYNAMIC RAM\\n4)\\t82C59A-2\\n\\tCHMOS PROGRAMMABLE INTERRUPT CONTROLLER\\n5)\\t82C88\\n\\tCHMOS BUS CONTROLLER\\n\\tFRO 80C86,80C88 PROCESSORS\\n6)\\t80C88/80C88-2\\n\\t8-BIT CHMOS MICROPROCESSOR\\n7)\\t82C55A\\n\\tCHMOS PROGRAMMABLE PERIPHERAL INTERFACE\\n8)\\t82C54\\n\\tCHMOS PROGRAMMABLE INTERVAL TIMER\\n9)\\t82C08\\n\\tCHMOS DYNAMIC RAM CONTROLLER\\n\\nAll these are chips with complete manual in a box. I don't know whether they\\nstill work or not, and I don't really know what they are. \\n\\nSo this is mainly for those who knows what this is and have use of it \\n(probably EE stuff since this used to belong to a EE student)\\n\\nAnyone interested, please make me an offer.\\n\\nJonina\\n\"\n 'From: adamsj@gtewd.mtv.gtegsc.com\\nSubject: Re: Homosexuality issues in Christianity\\nReply-To: adamsj@gtewd.mtv.gtegsc.com\\nOrganization: GTE Govt. Systems, Electronics Def. Div.\\nLines: 18\\n\\nIn article <May.13.02.29.39.1993.1505@geneva.rutgers.edu>, revdak@netcom.com (D. Andrew Kille) writes:\\n> Of course the whole issue is one of discernment.  It may be that Satan\\n> is trying to convince us that we know more than God.  Or it may be that\\n> God is trying (as God did with Peter) to teach us something we don\\'t\\n> know- that \"God shows no partiality, but in every nation anyone who fears\\n> him and does what is right is acceptable to him.\" (Acts 10:34-35).\\n> \\n> revdak@netcom.com\\n\\nFine, but one of the points of this entire discussion is that \"we\"\\n(conservative, reformed christians - this could start an argument...\\nBut isn\\'t this idea that homosexuality is ok fairly \"new\" [this\\ncentury] ? Is there any support for this being a viable viewpoint\\nbefore this century? I don\\'t know.) don\\'t believe that homosexuality\\nis \"acceptable to Him\". So your scripture quotation doesn\\'t work for\\n\"us\".\\n\\n-jeff adams-\\n'].\nReshape your data either using array.reshape(-1, 1) if your data has a single feature or array.reshape(1, -1) if it contains a single sample.",
     "output_type": "error",
     "traceback": [
      "\u001b[0;31m---------------------------------------------------------------------------\u001b[0m",
      "\u001b[0;31mValueError\u001b[0m                                Traceback (most recent call last)",
      "\u001b[0;32m<ipython-input-15-02d5400c4aae>\u001b[0m in \u001b[0;36m<module>\u001b[0;34m()\u001b[0m\n\u001b[1;32m      1\u001b[0m \u001b[0;32mimport\u001b[0m \u001b[0mnumpy\u001b[0m \u001b[0;32mas\u001b[0m \u001b[0mnp\u001b[0m\u001b[0;34m\u001b[0m\u001b[0m\n\u001b[1;32m      2\u001b[0m \u001b[0mtwenty_test\u001b[0m \u001b[0;34m=\u001b[0m \u001b[0mfetch_20newsgroups\u001b[0m\u001b[0;34m(\u001b[0m\u001b[0msubset\u001b[0m\u001b[0;34m=\u001b[0m\u001b[0;34m'test'\u001b[0m\u001b[0;34m,\u001b[0m \u001b[0mshuffle\u001b[0m\u001b[0;34m=\u001b[0m\u001b[0;32mTrue\u001b[0m\u001b[0;34m)\u001b[0m\u001b[0;34m\u001b[0m\u001b[0m\n\u001b[0;32m----> 3\u001b[0;31m \u001b[0mpredicted\u001b[0m \u001b[0;34m=\u001b[0m \u001b[0mclf\u001b[0m\u001b[0;34m.\u001b[0m\u001b[0mpredict\u001b[0m\u001b[0;34m(\u001b[0m\u001b[0mtwenty_test\u001b[0m\u001b[0;34m.\u001b[0m\u001b[0mdata\u001b[0m\u001b[0;34m)\u001b[0m\u001b[0;34m\u001b[0m\u001b[0m\n\u001b[0m\u001b[1;32m      4\u001b[0m \u001b[0mnp\u001b[0m\u001b[0;34m.\u001b[0m\u001b[0mmean\u001b[0m\u001b[0;34m(\u001b[0m\u001b[0mpredicted\u001b[0m \u001b[0;34m==\u001b[0m \u001b[0mtwenty_test\u001b[0m\u001b[0;34m.\u001b[0m\u001b[0mtarget\u001b[0m\u001b[0;34m)\u001b[0m\u001b[0;34m\u001b[0m\u001b[0m\n",
      "\u001b[0;32m/usr/local/lib/python3.6/site-packages/sklearn/naive_bayes.py\u001b[0m in \u001b[0;36mpredict\u001b[0;34m(self, X)\u001b[0m\n\u001b[1;32m     64\u001b[0m             \u001b[0mPredicted\u001b[0m \u001b[0mtarget\u001b[0m \u001b[0mvalues\u001b[0m \u001b[0;32mfor\u001b[0m \u001b[0mX\u001b[0m\u001b[0;34m\u001b[0m\u001b[0m\n\u001b[1;32m     65\u001b[0m         \"\"\"\n\u001b[0;32m---> 66\u001b[0;31m         \u001b[0mjll\u001b[0m \u001b[0;34m=\u001b[0m \u001b[0mself\u001b[0m\u001b[0;34m.\u001b[0m\u001b[0m_joint_log_likelihood\u001b[0m\u001b[0;34m(\u001b[0m\u001b[0mX\u001b[0m\u001b[0;34m)\u001b[0m\u001b[0;34m\u001b[0m\u001b[0m\n\u001b[0m\u001b[1;32m     67\u001b[0m         \u001b[0;32mreturn\u001b[0m \u001b[0mself\u001b[0m\u001b[0;34m.\u001b[0m\u001b[0mclasses_\u001b[0m\u001b[0;34m[\u001b[0m\u001b[0mnp\u001b[0m\u001b[0;34m.\u001b[0m\u001b[0margmax\u001b[0m\u001b[0;34m(\u001b[0m\u001b[0mjll\u001b[0m\u001b[0;34m,\u001b[0m \u001b[0maxis\u001b[0m\u001b[0;34m=\u001b[0m\u001b[0;36m1\u001b[0m\u001b[0;34m)\u001b[0m\u001b[0;34m]\u001b[0m\u001b[0;34m\u001b[0m\u001b[0m\n\u001b[1;32m     68\u001b[0m \u001b[0;34m\u001b[0m\u001b[0m\n",
      "\u001b[0;32m/usr/local/lib/python3.6/site-packages/sklearn/naive_bayes.py\u001b[0m in \u001b[0;36m_joint_log_likelihood\u001b[0;34m(self, X)\u001b[0m\n\u001b[1;32m    722\u001b[0m         \u001b[0mcheck_is_fitted\u001b[0m\u001b[0;34m(\u001b[0m\u001b[0mself\u001b[0m\u001b[0;34m,\u001b[0m \u001b[0;34m\"classes_\"\u001b[0m\u001b[0;34m)\u001b[0m\u001b[0;34m\u001b[0m\u001b[0m\n\u001b[1;32m    723\u001b[0m \u001b[0;34m\u001b[0m\u001b[0m\n\u001b[0;32m--> 724\u001b[0;31m         \u001b[0mX\u001b[0m \u001b[0;34m=\u001b[0m \u001b[0mcheck_array\u001b[0m\u001b[0;34m(\u001b[0m\u001b[0mX\u001b[0m\u001b[0;34m,\u001b[0m \u001b[0maccept_sparse\u001b[0m\u001b[0;34m=\u001b[0m\u001b[0;34m'csr'\u001b[0m\u001b[0;34m)\u001b[0m\u001b[0;34m\u001b[0m\u001b[0m\n\u001b[0m\u001b[1;32m    725\u001b[0m         return (safe_sparse_dot(X, self.feature_log_prob_.T) +\n\u001b[1;32m    726\u001b[0m                 self.class_log_prior_)\n",
      "\u001b[0;32m/usr/local/lib/python3.6/site-packages/sklearn/utils/validation.py\u001b[0m in \u001b[0;36mcheck_array\u001b[0;34m(array, accept_sparse, dtype, order, copy, force_all_finite, ensure_2d, allow_nd, ensure_min_samples, ensure_min_features, warn_on_dtype, estimator)\u001b[0m\n\u001b[1;32m    439\u001b[0m                     \u001b[0;34m\"Reshape your data either using array.reshape(-1, 1) if \"\u001b[0m\u001b[0;34m\u001b[0m\u001b[0m\n\u001b[1;32m    440\u001b[0m                     \u001b[0;34m\"your data has a single feature or array.reshape(1, -1) \"\u001b[0m\u001b[0;34m\u001b[0m\u001b[0m\n\u001b[0;32m--> 441\u001b[0;31m                     \"if it contains a single sample.\".format(array))\n\u001b[0m\u001b[1;32m    442\u001b[0m             \u001b[0marray\u001b[0m \u001b[0;34m=\u001b[0m \u001b[0mnp\u001b[0m\u001b[0;34m.\u001b[0m\u001b[0matleast_2d\u001b[0m\u001b[0;34m(\u001b[0m\u001b[0marray\u001b[0m\u001b[0;34m)\u001b[0m\u001b[0;34m\u001b[0m\u001b[0m\n\u001b[1;32m    443\u001b[0m             \u001b[0;31m# To ensure that array flags are maintained\u001b[0m\u001b[0;34m\u001b[0m\u001b[0;34m\u001b[0m\u001b[0m\n",
      "\u001b[0;31mValueError\u001b[0m: Expected 2D array, got 1D array instead:\narray=[ 'From: v064mb9k@ubvmsd.cc.buffalo.edu (NEIL B. GANDLER)\\nSubject: Need info on 88-89 Bonneville\\nOrganization: University at Buffalo\\nLines: 10\\nNews-Software: VAX/VMS VNEWS 1.41\\nNntp-Posting-Host: ubvmsd.cc.buffalo.edu\\n\\n\\n I am a little confused on all of the models of the 88-89 bonnevilles.\\nI have heard of the LE SE LSE SSE SSEI. Could someone tell me the\\ndifferences are far as features or performance. I am also curious to\\nknow what the book value is for prefereably the 89 model. And how much\\nless than book value can you usually get them for. In other words how\\nmuch are they in demand this time of year. I have heard that the mid-spring\\nearly summer is the best time to buy.\\n\\n\\t\\t\\tNeil Gandler\\n'\n 'From: Rick Miller <rick@ee.uwm.edu>\\nSubject: X-Face?\\nOrganization: Just me.\\nLines: 17\\nDistribution: world\\nNNTP-Posting-Host: 129.89.2.33\\nSummary: Go ahead... swamp me.  <EEP!>\\n\\nI\\'m not familiar at all with the format of these \"X-Face:\" thingies, but\\nafter seeing them in some folks\\' headers, I\\'ve *got* to *see* them (and\\nmaybe make one of my own)!\\n\\nI\\'ve got \"dpg-view\" on my Linux box (which displays \"uncompressed X-Faces\")\\nand I\\'ve managed to compile [un]compface too... but now that I\\'m *looking*\\nfor them, I can\\'t seem to find any X-Face:\\'s in anyones news headers!  :-(\\n\\nCould you, would you, please send me your \"X-Face:\" header?\\n\\nI *know* I\\'ll probably get a little swamped, but I can handle it.\\n\\n\\t...I hope.\\n\\nRick Miller  <rick@ee.uwm.edu> | <ricxjo@discus.mil.wi.us>   Ricxjo Muelisto\\nSend a postcard, get one back! | Enposxtigu bildkarton kaj vi ricevos alion!\\n          RICK MILLER // 16203 WOODS // MUSKEGO, WIS. 53150 // USA\\n'\n 'From: mathew <mathew@mantis.co.uk>\\nSubject: Re: STRONG & weak Atheism\\nOrganization: Mantis Consultants, Cambridge. UK.\\nX-Newsreader: rusnews v1.02\\nLines: 9\\n\\nacooper@mac.cc.macalstr.edu (Turin Turambar, ME Department of Utter Misery) writes:\\n> Did that FAQ ever got modified to re-define strong atheists as not those who\\n> assert the nonexistence of God, but as those who assert that they BELIEVE in \\n> the nonexistence of God?\\n\\nIn a word, yes.\\n\\n\\nmathew\\n'\n ...,\n 'From: hhenderson@vax.clarku.edu\\nSubject: RE: Game Length (was Re: Braves Update!!\\nOrganization: Clark University\\nLines: 31\\n\\nI sent a version of this post out a while ago, but it was swallowed by\\nthe void.  My apologies if anyone ends up receiving it.\\n\\nSherri Nichols writes:\\n\\n>In article <22APR93.04131972@vax.clarku.edu> hhenderson@vax.clarku.edu writes:\\n>>snichols@adobe.com (Sherri Nichols) writes:\\n>>\\n>>>I just don\\'t\\n>>>happen to think that the 11-15 minutes added to the length of games over\\n>>>the last 10 years has added anything interesting.\\n>>\\n>>How would you quantify that?  I suppose an easy way would be to look at\\n>>attendance figures.  Anyone got the numbers?\\n>\\n>Attendance figures aren\\'t going to quantify anything about my personal\\n>opinion, which the above is clearly stated as.  Add \"to me\" to the end of\\n>my sentence, if you\\'re confused about what I meant.\\n\\nOh no, I wasn\\'t confused -- I understood that it was your personal\\nopinion.  But I thought we were discussing the need to shorten\\ngames.  The arguments which declare this need seem to hinge on\\nthe assertion that long games bore people and otherwise discourage\\nthem from going to the ballpark.  I\\'d like to see if the increased\\nlength of games has negatively affected attendance.  If it has, then\\nthere *is* a problem, and something should be done about it.  If it\\nhasn\\'t, then there *isn\\'t* a problem, and there\\'s no need to monkey\\nwith things as they are.\\n\\nHeather\\nHHENDERSON@vax.clarku.edu\\n'\n \"From: b859zam@utarlg.uta.edu \\nSubject: INTEL CHMOS 8086/8088 DESIGN KIT\\nNews-Software: VAX/VMS VNEWS 1.41    \\nNntp-Posting-Host: utarlg.uta.edu\\nOrganization: The University of Texas at Arlington\\nLines: 33\\n\\nI have this kit which includes the following :\\n\\n1)\\t82c84a/82c84a-5\\n\\tCHMOS CLOCK GENERATOR AND DRIVER\\n\\tFOR 8086,80C88 PROCESSORS\\n2)\\t27C64/87C64\\n\\t64K(8Kx8) CHMOS UV ERASABLE PROM\\n3)\\t51C259L\\n\\tLOW POWER 64K x 4\\n\\tCHMOS DYNAMIC RAM\\n4)\\t82C59A-2\\n\\tCHMOS PROGRAMMABLE INTERRUPT CONTROLLER\\n5)\\t82C88\\n\\tCHMOS BUS CONTROLLER\\n\\tFRO 80C86,80C88 PROCESSORS\\n6)\\t80C88/80C88-2\\n\\t8-BIT CHMOS MICROPROCESSOR\\n7)\\t82C55A\\n\\tCHMOS PROGRAMMABLE PERIPHERAL INTERFACE\\n8)\\t82C54\\n\\tCHMOS PROGRAMMABLE INTERVAL TIMER\\n9)\\t82C08\\n\\tCHMOS DYNAMIC RAM CONTROLLER\\n\\nAll these are chips with complete manual in a box. I don't know whether they\\nstill work or not, and I don't really know what they are. \\n\\nSo this is mainly for those who knows what this is and have use of it \\n(probably EE stuff since this used to belong to a EE student)\\n\\nAnyone interested, please make me an offer.\\n\\nJonina\\n\"\n 'From: adamsj@gtewd.mtv.gtegsc.com\\nSubject: Re: Homosexuality issues in Christianity\\nReply-To: adamsj@gtewd.mtv.gtegsc.com\\nOrganization: GTE Govt. Systems, Electronics Def. Div.\\nLines: 18\\n\\nIn article <May.13.02.29.39.1993.1505@geneva.rutgers.edu>, revdak@netcom.com (D. Andrew Kille) writes:\\n> Of course the whole issue is one of discernment.  It may be that Satan\\n> is trying to convince us that we know more than God.  Or it may be that\\n> God is trying (as God did with Peter) to teach us something we don\\'t\\n> know- that \"God shows no partiality, but in every nation anyone who fears\\n> him and does what is right is acceptable to him.\" (Acts 10:34-35).\\n> \\n> revdak@netcom.com\\n\\nFine, but one of the points of this entire discussion is that \"we\"\\n(conservative, reformed christians - this could start an argument...\\nBut isn\\'t this idea that homosexuality is ok fairly \"new\" [this\\ncentury] ? Is there any support for this being a viable viewpoint\\nbefore this century? I don\\'t know.) don\\'t believe that homosexuality\\nis \"acceptable to Him\". So your scripture quotation doesn\\'t work for\\n\"us\".\\n\\n-jeff adams-\\n'].\nReshape your data either using array.reshape(-1, 1) if your data has a single feature or array.reshape(1, -1) if it contains a single sample."
     ]
    }
   ],
   "source": [
    "import numpy as np\n",
    "twenty_test = fetch_20newsgroups(subset='test', shuffle=True)\n",
    "predicted = clf.predict(twenty_test.data)\n",
    "np.mean(predicted == twenty_test.target)"
   ]
  },
  {
   "cell_type": "code",
   "execution_count": 3,
   "metadata": {},
   "outputs": [
    {
     "data": {
      "text/plain": [
       "'0.0001520450053215752'"
      ]
     },
     "execution_count": 3,
     "metadata": {},
     "output_type": "execute_result"
    }
   ],
   "source": [
    "str(1/6577)"
   ]
  },
  {
   "cell_type": "code",
   "execution_count": null,
   "metadata": {},
   "outputs": [],
   "source": []
  }
 ],
 "metadata": {
  "kernelspec": {
   "display_name": "Python 3",
   "language": "python",
   "name": "python3"
  },
  "language_info": {
   "codemirror_mode": {
    "name": "ipython",
    "version": 3
   },
   "file_extension": ".py",
   "mimetype": "text/x-python",
   "name": "python",
   "nbconvert_exporter": "python",
   "pygments_lexer": "ipython3",
   "version": "3.6.5"
  }
 },
 "nbformat": 4,
 "nbformat_minor": 2
}
